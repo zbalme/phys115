{
 "cells": [
  {
   "cell_type": "markdown",
   "metadata": {},
   "source": [
    "# Problem Set 4\n",
    "\n",
    "Due in your git fork by 11:59pm Pacific time on Wednesday, November 15th.\n",
    "\n",
    "All problems have equal weight."
   ]
  },
  {
   "cell_type": "code",
   "execution_count": null,
   "metadata": {},
   "outputs": [],
   "source": [
    "import numpy as np\n",
    "import matplotlib.pyplot as plt\n",
    "%matplotlib inline\n",
    "import sys\n",
    "print(sys.version)"
   ]
  },
  {
   "cell_type": "markdown",
   "metadata": {},
   "source": [
    "## Problem 1\n",
    "\n",
    "**Multi-dimension MC integration.**\n",
    "We discussed at length 1-dimensional MC integration, and we talked about how MC techniques become important for multi-dimensional integrals. Let's see that now by doing the problem in section 5.17 of your textbook. We want to evaluate the ten-dimensional integral\n",
    "\n",
    "$$I=\\int_0^1 dx_1\\int_0^1 dx_2...\\int_0^1 dx_{10} (x_1+x_2+....+x_{10})^2$$\n",
    "\n",
    "and we will compare the result with the analytic result $\\frac{155}{6}$ and with a trapezoid rule integration, in the following problem. \n",
    "\n",
    "First, a quick digression: this seems a good opportunity to introduce sympy for symbolic manipulation."
   ]
  },
  {
   "cell_type": "code",
   "execution_count": 1,
   "metadata": {},
   "outputs": [
    {
     "data": {
      "image/png": "[encoded data removed]",
      "text/latex": [
       "$\\displaystyle \\frac{x_{1} x_{10}^{3} x_{2} x_{3} x_{4} x_{5} x_{6} x_{7} x_{8} x_{9}}{3} + x_{10}^{2} \\left(\\frac{x_{1}^{2} x_{2} x_{3} x_{4} x_{5} x_{6} x_{7} x_{8} x_{9}}{2} + \\frac{x_{1} x_{2}^{2} x_{3} x_{4} x_{5} x_{6} x_{7} x_{8} x_{9}}{2} + \\frac{x_{1} x_{2} x_{3}^{2} x_{4} x_{5} x_{6} x_{7} x_{8} x_{9}}{2} + \\frac{x_{1} x_{2} x_{3} x_{4}^{2} x_{5} x_{6} x_{7} x_{8} x_{9}}{2} + \\frac{x_{1} x_{2} x_{3} x_{4} x_{5}^{2} x_{6} x_{7} x_{8} x_{9}}{2} + \\frac{x_{1} x_{2} x_{3} x_{4} x_{5} x_{6}^{2} x_{7} x_{8} x_{9}}{2} + \\frac{x_{1} x_{2} x_{3} x_{4} x_{5} x_{6} x_{7}^{2} x_{8} x_{9}}{2} + \\frac{x_{1} x_{2} x_{3} x_{4} x_{5} x_{6} x_{7} x_{8}^{2} x_{9}}{2} + \\frac{x_{1} x_{2} x_{3} x_{4} x_{5} x_{6} x_{7} x_{8} x_{9}^{2}}{2}\\right) + x_{10} \\left(\\frac{x_{1}^{3} x_{2} x_{3} x_{4} x_{5} x_{6} x_{7} x_{8} x_{9}}{3} + \\frac{x_{1}^{2} x_{2}^{2} x_{3} x_{4} x_{5} x_{6} x_{7} x_{8} x_{9}}{2} + \\frac{x_{1}^{2} x_{2} x_{3}^{2} x_{4} x_{5} x_{6} x_{7} x_{8} x_{9}}{2} + \\frac{x_{1}^{2} x_{2} x_{3} x_{4}^{2} x_{5} x_{6} x_{7} x_{8} x_{9}}{2} + \\frac{x_{1}^{2} x_{2} x_{3} x_{4} x_{5}^{2} x_{6} x_{7} x_{8} x_{9}}{2} + \\frac{x_{1}^{2} x_{2} x_{3} x_{4} x_{5} x_{6}^{2} x_{7} x_{8} x_{9}}{2} + \\frac{x_{1}^{2} x_{2} x_{3} x_{4} x_{5} x_{6} x_{7}^{2} x_{8} x_{9}}{2} + \\frac{x_{1}^{2} x_{2} x_{3} x_{4} x_{5} x_{6} x_{7} x_{8}^{2} x_{9}}{2} + \\frac{x_{1}^{2} x_{2} x_{3} x_{4} x_{5} x_{6} x_{7} x_{8} x_{9}^{2}}{2} + \\frac{x_{1} x_{2}^{3} x_{3} x_{4} x_{5} x_{6} x_{7} x_{8} x_{9}}{3} + \\frac{x_{1} x_{2}^{2} x_{3}^{2} x_{4} x_{5} x_{6} x_{7} x_{8} x_{9}}{2} + \\frac{x_{1} x_{2}^{2} x_{3} x_{4}^{2} x_{5} x_{6} x_{7} x_{8} x_{9}}{2} + \\frac{x_{1} x_{2}^{2} x_{3} x_{4} x_{5}^{2} x_{6} x_{7} x_{8} x_{9}}{2} + \\frac{x_{1} x_{2}^{2} x_{3} x_{4} x_{5} x_{6}^{2} x_{7} x_{8} x_{9}}{2} + \\frac{x_{1} x_{2}^{2} x_{3} x_{4} x_{5} x_{6} x_{7}^{2} x_{8} x_{9}}{2} + \\frac{x_{1} x_{2}^{2} x_{3} x_{4} x_{5} x_{6} x_{7} x_{8}^{2} x_{9}}{2} + \\frac{x_{1} x_{2}^{2} x_{3} x_{4} x_{5} x_{6} x_{7} x_{8} x_{9}^{2}}{2} + \\frac{x_{1} x_{2} x_{3}^{3} x_{4} x_{5} x_{6} x_{7} x_{8} x_{9}}{3} + \\frac{x_{1} x_{2} x_{3}^{2} x_{4}^{2} x_{5} x_{6} x_{7} x_{8} x_{9}}{2} + \\frac{x_{1} x_{2} x_{3}^{2} x_{4} x_{5}^{2} x_{6} x_{7} x_{8} x_{9}}{2} + \\frac{x_{1} x_{2} x_{3}^{2} x_{4} x_{5} x_{6}^{2} x_{7} x_{8} x_{9}}{2} + \\frac{x_{1} x_{2} x_{3}^{2} x_{4} x_{5} x_{6} x_{7}^{2} x_{8} x_{9}}{2} + \\frac{x_{1} x_{2} x_{3}^{2} x_{4} x_{5} x_{6} x_{7} x_{8}^{2} x_{9}}{2} + \\frac{x_{1} x_{2} x_{3}^{2} x_{4} x_{5} x_{6} x_{7} x_{8} x_{9}^{2}}{2} + \\frac{x_{1} x_{2} x_{3} x_{4}^{3} x_{5} x_{6} x_{7} x_{8} x_{9}}{3} + \\frac{x_{1} x_{2} x_{3} x_{4}^{2} x_{5}^{2} x_{6} x_{7} x_{8} x_{9}}{2} + \\frac{x_{1} x_{2} x_{3} x_{4}^{2} x_{5} x_{6}^{2} x_{7} x_{8} x_{9}}{2} + \\frac{x_{1} x_{2} x_{3} x_{4}^{2} x_{5} x_{6} x_{7}^{2} x_{8} x_{9}}{2} + \\frac{x_{1} x_{2} x_{3} x_{4}^{2} x_{5} x_{6} x_{7} x_{8}^{2} x_{9}}{2} + \\frac{x_{1} x_{2} x_{3} x_{4}^{2} x_{5} x_{6} x_{7} x_{8} x_{9}^{2}}{2} + \\frac{x_{1} x_{2} x_{3} x_{4} x_{5}^{3} x_{6} x_{7} x_{8} x_{9}}{3} + \\frac{x_{1} x_{2} x_{3} x_{4} x_{5}^{2} x_{6}^{2} x_{7} x_{8} x_{9}}{2} + \\frac{x_{1} x_{2} x_{3} x_{4} x_{5}^{2} x_{6} x_{7}^{2} x_{8} x_{9}}{2} + \\frac{x_{1} x_{2} x_{3} x_{4} x_{5}^{2} x_{6} x_{7} x_{8}^{2} x_{9}}{2} + \\frac{x_{1} x_{2} x_{3} x_{4} x_{5}^{2} x_{6} x_{7} x_{8} x_{9}^{2}}{2} + \\frac{x_{1} x_{2} x_{3} x_{4} x_{5} x_{6}^{3} x_{7} x_{8} x_{9}}{3} + \\frac{x_{1} x_{2} x_{3} x_{4} x_{5} x_{6}^{2} x_{7}^{2} x_{8} x_{9}}{2} + \\frac{x_{1} x_{2} x_{3} x_{4} x_{5} x_{6}^{2} x_{7} x_{8}^{2} x_{9}}{2} + \\frac{x_{1} x_{2} x_{3} x_{4} x_{5} x_{6}^{2} x_{7} x_{8} x_{9}^{2}}{2} + \\frac{x_{1} x_{2} x_{3} x_{4} x_{5} x_{6} x_{7}^{3} x_{8} x_{9}}{3} + \\frac{x_{1} x_{2} x_{3} x_{4} x_{5} x_{6} x_{7}^{2} x_{8}^{2} x_{9}}{2} + \\frac{x_{1} x_{2} x_{3} x_{4} x_{5} x_{6} x_{7}^{2} x_{8} x_{9}^{2}}{2} + \\frac{x_{1} x_{2} x_{3} x_{4} x_{5} x_{6} x_{7} x_{8}^{3} x_{9}}{3} + \\frac{x_{1} x_{2} x_{3} x_{4} x_{5} x_{6} x_{7} x_{8}^{2} x_{9}^{2}}{2} + \\frac{x_{1} x_{2} x_{3} x_{4} x_{5} x_{6} x_{7} x_{8} x_{9}^{3}}{3}\\right)$"
      ],
      "text/plain": [
       "      3                                ⎛  2                                2  \n",
       "x₁⋅x₁₀ ⋅x₂⋅x₃⋅x₄⋅x₅⋅x₆⋅x₇⋅x₈⋅x₉      2 ⎜x₁ ⋅x₂⋅x₃⋅x₄⋅x₅⋅x₆⋅x₇⋅x₈⋅x₉   x₁⋅x₂ ⋅x\n",
       "─────────────────────────────── + x₁₀ ⋅⎜─────────────────────────── + ────────\n",
       "               3                       ⎝             2                        \n",
       "\n",
       "                              2                                2              \n",
       "₃⋅x₄⋅x₅⋅x₆⋅x₇⋅x₈⋅x₉   x₁⋅x₂⋅x₃ ⋅x₄⋅x₅⋅x₆⋅x₇⋅x₈⋅x₉   x₁⋅x₂⋅x₃⋅x₄ ⋅x₅⋅x₆⋅x₇⋅x₈⋅x\n",
       "─────────────────── + ─────────────────────────── + ──────────────────────────\n",
       "     2                             2                             2            \n",
       "\n",
       "                  2                                2                          \n",
       "₉   x₁⋅x₂⋅x₃⋅x₄⋅x₅ ⋅x₆⋅x₇⋅x₈⋅x₉   x₁⋅x₂⋅x₃⋅x₄⋅x₅⋅x₆ ⋅x₇⋅x₈⋅x₉   x₁⋅x₂⋅x₃⋅x₄⋅x₅\n",
       "─ + ─────────────────────────── + ─────────────────────────── + ──────────────\n",
       "                 2                             2                             2\n",
       "\n",
       "      2                                2                                2⎞    \n",
       "⋅x₆⋅x₇ ⋅x₈⋅x₉   x₁⋅x₂⋅x₃⋅x₄⋅x₅⋅x₆⋅x₇⋅x₈ ⋅x₉   x₁⋅x₂⋅x₃⋅x₄⋅x₅⋅x₆⋅x₇⋅x₈⋅x₉ ⎟    \n",
       "───────────── + ─────────────────────────── + ───────────────────────────⎟ + x\n",
       "                             2                             2             ⎠    \n",
       "\n",
       "   ⎛  3                             2   2                          2      2   \n",
       "   ⎜x₁ ⋅x₂⋅x₃⋅x₄⋅x₅⋅x₆⋅x₇⋅x₈⋅x₉   x₁ ⋅x₂ ⋅x₃⋅x₄⋅x₅⋅x₆⋅x₇⋅x₈⋅x₉   x₁ ⋅x₂⋅x₃ ⋅x₄\n",
       "₁₀⋅⎜─────────────────────────── + ──────────────────────────── + ─────────────\n",
       "   ⎝             3                             2                              \n",
       "\n",
       "                    2         2                    2            2             \n",
       "⋅x₅⋅x₆⋅x₇⋅x₈⋅x₉   x₁ ⋅x₂⋅x₃⋅x₄ ⋅x₅⋅x₆⋅x₇⋅x₈⋅x₉   x₁ ⋅x₂⋅x₃⋅x₄⋅x₅ ⋅x₆⋅x₇⋅x₈⋅x₉ \n",
       "─────────────── + ──────────────────────────── + ──────────────────────────── \n",
       "2                              2                              2               \n",
       "\n",
       "    2               2              2                  2           2           \n",
       "  x₁ ⋅x₂⋅x₃⋅x₄⋅x₅⋅x₆ ⋅x₇⋅x₈⋅x₉   x₁ ⋅x₂⋅x₃⋅x₄⋅x₅⋅x₆⋅x₇ ⋅x₈⋅x₉   x₁ ⋅x₂⋅x₃⋅x₄⋅x\n",
       "+ ──────────────────────────── + ──────────────────────────── + ──────────────\n",
       "               2                              2                              2\n",
       "\n",
       "          2        2                        2        3                        \n",
       "₅⋅x₆⋅x₇⋅x₈ ⋅x₉   x₁ ⋅x₂⋅x₃⋅x₄⋅x₅⋅x₆⋅x₇⋅x₈⋅x₉    x₁⋅x₂ ⋅x₃⋅x₄⋅x₅⋅x₆⋅x₇⋅x₈⋅x₉   \n",
       "────────────── + ──────────────────────────── + ─────────────────────────── + \n",
       "                              2                              3                \n",
       "\n",
       "     2   2                          2      2                       2         2\n",
       "x₁⋅x₂ ⋅x₃ ⋅x₄⋅x₅⋅x₆⋅x₇⋅x₈⋅x₉   x₁⋅x₂ ⋅x₃⋅x₄ ⋅x₅⋅x₆⋅x₇⋅x₈⋅x₉   x₁⋅x₂ ⋅x₃⋅x₄⋅x₅ \n",
       "──────────────────────────── + ──────────────────────────── + ────────────────\n",
       "             2                              2                              2  \n",
       "\n",
       "                    2            2                 2               2          \n",
       "⋅x₆⋅x₇⋅x₈⋅x₉   x₁⋅x₂ ⋅x₃⋅x₄⋅x₅⋅x₆ ⋅x₇⋅x₈⋅x₉   x₁⋅x₂ ⋅x₃⋅x₄⋅x₅⋅x₆⋅x₇ ⋅x₈⋅x₉   x\n",
       "──────────── + ──────────────────────────── + ──────────────────────────── + ─\n",
       "                            2                              2                  \n",
       "\n",
       "    2                  2           2                     2           3        \n",
       "₁⋅x₂ ⋅x₃⋅x₄⋅x₅⋅x₆⋅x₇⋅x₈ ⋅x₉   x₁⋅x₂ ⋅x₃⋅x₄⋅x₅⋅x₆⋅x₇⋅x₈⋅x₉    x₁⋅x₂⋅x₃ ⋅x₄⋅x₅⋅x\n",
       "─────────────────────────── + ──────────────────────────── + ─────────────────\n",
       "            2                              2                              3   \n",
       "\n",
       "                     2   2                          2      2                  \n",
       "₆⋅x₇⋅x₈⋅x₉   x₁⋅x₂⋅x₃ ⋅x₄ ⋅x₅⋅x₆⋅x₇⋅x₈⋅x₉   x₁⋅x₂⋅x₃ ⋅x₄⋅x₅ ⋅x₆⋅x₇⋅x₈⋅x₉   x₁⋅\n",
       "────────── + ──────────────────────────── + ──────────────────────────── + ───\n",
       "                          2                              2                    \n",
       "\n",
       "     2         2                    2            2                 2          \n",
       "x₂⋅x₃ ⋅x₄⋅x₅⋅x₆ ⋅x₇⋅x₈⋅x₉   x₁⋅x₂⋅x₃ ⋅x₄⋅x₅⋅x₆⋅x₇ ⋅x₈⋅x₉   x₁⋅x₂⋅x₃ ⋅x₄⋅x₅⋅x₆⋅\n",
       "───────────────────────── + ──────────────────────────── + ───────────────────\n",
       "          2                              2                              2     \n",
       "\n",
       "     2              2                  2              3                       \n",
       "x₇⋅x₈ ⋅x₉   x₁⋅x₂⋅x₃ ⋅x₄⋅x₅⋅x₆⋅x₇⋅x₈⋅x₉    x₁⋅x₂⋅x₃⋅x₄ ⋅x₅⋅x₆⋅x₇⋅x₈⋅x₉   x₁⋅x₂\n",
       "───────── + ──────────────────────────── + ─────────────────────────── + ─────\n",
       "                         2                              3                     \n",
       "\n",
       "      2   2                          2      2                       2         \n",
       "⋅x₃⋅x₄ ⋅x₅ ⋅x₆⋅x₇⋅x₈⋅x₉   x₁⋅x₂⋅x₃⋅x₄ ⋅x₅⋅x₆ ⋅x₇⋅x₈⋅x₉   x₁⋅x₂⋅x₃⋅x₄ ⋅x₅⋅x₆⋅x₇\n",
       "─────────────────────── + ──────────────────────────── + ─────────────────────\n",
       "        2                              2                              2       \n",
       "\n",
       "2                    2            2                 2               2         \n",
       " ⋅x₈⋅x₉   x₁⋅x₂⋅x₃⋅x₄ ⋅x₅⋅x₆⋅x₇⋅x₈ ⋅x₉   x₁⋅x₂⋅x₃⋅x₄ ⋅x₅⋅x₆⋅x₇⋅x₈⋅x₉    x₁⋅x₂⋅\n",
       "─────── + ──────────────────────────── + ──────────────────────────── + ──────\n",
       "                       2                              2                       \n",
       "\n",
       "        3                             2   2                          2      2 \n",
       "x₃⋅x₄⋅x₅ ⋅x₆⋅x₇⋅x₈⋅x₉   x₁⋅x₂⋅x₃⋅x₄⋅x₅ ⋅x₆ ⋅x₇⋅x₈⋅x₉   x₁⋅x₂⋅x₃⋅x₄⋅x₅ ⋅x₆⋅x₇ ⋅\n",
       "───────────────────── + ──────────────────────────── + ───────────────────────\n",
       "       3                             2                              2         \n",
       "\n",
       "                      2         2                    2            2           \n",
       "x₈⋅x₉   x₁⋅x₂⋅x₃⋅x₄⋅x₅ ⋅x₆⋅x₇⋅x₈ ⋅x₉   x₁⋅x₂⋅x₃⋅x₄⋅x₅ ⋅x₆⋅x₇⋅x₈⋅x₉    x₁⋅x₂⋅x₃\n",
       "───── + ──────────────────────────── + ──────────────────────────── + ────────\n",
       "                     2                              2                         \n",
       "\n",
       "         3                             2   2                          2      2\n",
       "⋅x₄⋅x₅⋅x₆ ⋅x₇⋅x₈⋅x₉   x₁⋅x₂⋅x₃⋅x₄⋅x₅⋅x₆ ⋅x₇ ⋅x₈⋅x₉   x₁⋅x₂⋅x₃⋅x₄⋅x₅⋅x₆ ⋅x₇⋅x₈ \n",
       "─────────────────── + ──────────────────────────── + ─────────────────────────\n",
       "     3                             2                              2           \n",
       "\n",
       "                       2         2                       3                    \n",
       "⋅x₉   x₁⋅x₂⋅x₃⋅x₄⋅x₅⋅x₆ ⋅x₇⋅x₈⋅x₉    x₁⋅x₂⋅x₃⋅x₄⋅x₅⋅x₆⋅x₇ ⋅x₈⋅x₉   x₁⋅x₂⋅x₃⋅x₄\n",
       "─── + ──────────────────────────── + ─────────────────────────── + ───────────\n",
       "                   2                              3                           \n",
       "\n",
       "         2   2                          2      2                          3   \n",
       "⋅x₅⋅x₆⋅x₇ ⋅x₈ ⋅x₉   x₁⋅x₂⋅x₃⋅x₄⋅x₅⋅x₆⋅x₇ ⋅x₈⋅x₉    x₁⋅x₂⋅x₃⋅x₄⋅x₅⋅x₆⋅x₇⋅x₈ ⋅x₉\n",
       "───────────────── + ──────────────────────────── + ───────────────────────────\n",
       "  2                              2                              3             \n",
       "\n",
       "                          2   2                             3⎞\n",
       "   x₁⋅x₂⋅x₃⋅x₄⋅x₅⋅x₆⋅x₇⋅x₈ ⋅x₉    x₁⋅x₂⋅x₃⋅x₄⋅x₅⋅x₆⋅x₇⋅x₈⋅x₉ ⎟\n",
       " + ──────────────────────────── + ───────────────────────────⎟\n",
       "                2                              3             ⎠"
      ]
     },
     "execution_count": 1,
     "metadata": {},
     "output_type": "execute_result"
    }
   ],
   "source": [
    "# Let's use sympy to verify that funny 155/6 claimed by your textbook:\n",
    "from sympy import *\n",
    "init_printing(use_unicode=True)\n",
    "x1,x2,x3,x4,x5,x6,x7,x8,x9,x10=symbols('x1 x2 x3 x4 x5 x6 x7 x8 x9 x10') # tell sympy about the symbols we want to use\n",
    "integrate((x1+x2+x3+x4+x5+x6+x7+x8+x9+x10)*(x1+x2+x3+x4+x5+x6+x7+x8+x9+x10),x1,x2,x3,x4,x5,x6,x7,x8,x9,x10)"
   ]
  },
  {
   "cell_type": "code",
   "execution_count": 2,
   "metadata": {},
   "outputs": [
    {
     "name": "stdout",
     "output_type": "stream",
     "text": [
      "155/6\n"
     ]
    }
   ],
   "source": [
    "# good to know. let's put in the limits now:\n",
    "exact=integrate((x1+x2+x3+x4+x5+x6+x7+x8+x9+x10)*(x1+x2+x3+x4+x5+x6+x7+x8+x9+x10),\n",
    "          (x1,0,1),(x2,0,1),(x3,0,1),(x4,0,1),(x5,0,1),(x6,0,1),(x7,0,1),\n",
    "          (x8,0,1),(x9,0,1),(x10,0,1))\n",
    "print(exact)"
   ]
  },
  {
   "cell_type": "markdown",
   "metadata": {},
   "source": [
    "Confirmed -- exactly as stated. BTW, sympy also knows how to integrate to infinity (oo and -oo), and it can also take derivatives sympbolically as well as do all that algebra for us. It can even output a result in LaTeX. \n",
    "\n",
    "Back to our problem now:"
   ]
  },
  {
   "cell_type": "markdown",
   "metadata": {},
   "source": [
    "a) implement a MC integration of $I$ using $N$ uniformly generated random points (no need to do importance sampling in this problem). Do this for $N=2^p$, where $p=5, 6, 7, ...18$ (so your largest $N$ is 262144). Plot the absolute value of the error vs $\\sqrt{N}$ on a log-log plot. There will be statistical fluctuations, so try it a few times to ensure you see the overall behavior. (Your book suggests averaging 16 results per value of $N$ -- feel free to do that, but it's not required here.)"
   ]
  },
  {
   "cell_type": "code",
   "execution_count": 627,
   "metadata": {},
   "outputs": [
    {
     "name": "stdout",
     "output_type": "stream",
     "text": [
      "for N = 32 monte = 21.3302 ± 4.50313\n",
      "\n",
      "for N = 64 monte = 24.3027 ± 1.5306\n",
      "\n",
      "for N = 128 monte = 23.6042 ± 2.2291\n",
      "\n",
      "for N = 256 monte = 24.6351 ± 1.19823\n",
      "\n",
      "for N = 512 monte = 25.1434 ± 0.689886\n",
      "\n",
      "for N = 1024 monte = 25.4999 ± 0.3334\n",
      "\n",
      "for N = 2048 monte = 25.6169 ± 0.216428\n",
      "\n",
      "for N = 4096 monte = 25.9503 ± -0.116976\n",
      "\n",
      "for N = 8192 monte = 25.9196 ± -0.0862966\n",
      "\n",
      "for N = 16384 monte = 25.8939 ± -0.0605828\n",
      "\n",
      "for N = 32768 monte = 25.8469 ± -0.0136106\n",
      "\n",
      "for N = 65536 monte = 25.8429 ± -0.00953315\n",
      "\n",
      "for N = 131072 monte = 25.8604 ± -0.027051\n",
      "\n",
      "for N = 262144 monte = 25.8249 ± 0.00844911\n",
      "\n"
     ]
    }
   ],
   "source": [
    "import numpy as np\n",
    "import matplotlib.pyplot as plt\n",
    "import random \n",
    "\n",
    "def function(xarray):\n",
    "    sum = 0\n",
    "#     print(isinstance(xarray,np.ndarray))\n",
    "#     if type(xarray) != list  and isinstance(xarray,np.ndarray) == False:\n",
    "    if type(xarray) != list  and type(xarray) !=  np.ndarray:\n",
    "        raise Exception(\"must be a list, try again noob\")\n",
    "    for i in range(len(xarray)):\n",
    "        for j in range(len(xarray)):\n",
    "            sum += xarray[i]*xarray[j]\n",
    "    return sum\n",
    "\n",
    "def testfunc(xarray):\n",
    "#     sum = 0\n",
    "    sum = np.sum(xarray)    # adds up the terms \n",
    "    return sum**2           # squares the terms and returns them\n",
    "\n",
    "def monte(N, f, D=10):\n",
    "    numsgened=0             # counter for testing terms gened \n",
    "    sum = 0 \n",
    "    sum2 = 0 \n",
    "    x = np.zeros(D)         # creates array of zeros with length D\n",
    "    for j in range(int(N/D)):   # iterates over N/D terms, set to int \n",
    "        for i in range(D):      # iterates over D\n",
    "            x[i] = random.random()      # generates a random value for each dimension\n",
    "            numsgened +=1\n",
    "#         print(type(x))\n",
    "#         print(x)\n",
    "        sum += function(x)              # calculates the value of the function and adds all values\n",
    "#         sum2 += function(x)**2\n",
    "    sum = sum/(int(N/D))                # takes average over all terms calced                      \n",
    "#     err = np.sqrt((sum2/N - sum**2)/N)\n",
    "    err = 155/6 - sum                   # calculates absolute err\n",
    "#     print(numsgened)\n",
    "    return sum, err\n",
    "        \n",
    "\n",
    "\n",
    "    \n",
    "for i in range(5,19):\n",
    "    aveans, aveerr = 0,0\n",
    "    for j in range(16):\n",
    "        cur = monte(2**i,testfunc) #calculates the values for 2**i N terms \n",
    "        aveans += cur[0]\n",
    "        aveerr += cur[1]\n",
    "    print(f\"for N = {2**i} monte = {aveans/16:.6}\", u\"\\u00B1\",f\"{aveerr/16:.6}\\n\") #prints average results after 16 runs \n",
    "     \n",
    "    \n",
    "\n",
    "# for i in range(5,19):\n",
    "#     ans, err = monte(2**i,testfunc)\n",
    "#     ans = \"{:2.6g}\".format(ans)\n",
    "#     err = \"{:2.6g}\".format(err)\n",
    "#     print(f\"for N = {2**i} monte = {ans}\", u\"\\u00B1\",f\"{err}\\n\")\n",
    "        "
   ]
  },
  {
   "cell_type": "code",
   "execution_count": 628,
   "metadata": {},
   "outputs": [],
   "source": [
    "vals = np.zeros(14)\n",
    "for i in range(5,19):\n",
    "    ave = 0\n",
    "    for j in range(16):\n",
    "        ave =+ monte(2**i,testfunc)[1]\n",
    "    vals[i-5] = ave/16         # finds average err after 16 runs"
   ]
  },
  {
   "cell_type": "code",
   "execution_count": 629,
   "metadata": {},
   "outputs": [
    {
     "data": {
      "image/png": "[encoded data removed]",
      "text/plain": [
       "<Figure size 640x480 with 1 Axes>"
      ]
     },
     "metadata": {},
     "output_type": "display_data"
    }
   ],
   "source": [
    "datapoints = np.zeros(14)\n",
    "expectederr = np.zeros(14)\n",
    "for i in range(5,19):\n",
    "    expectederr[i-5] = 1/(2**(i/2))            #calcs expected err \n",
    "    datapoints[i-5] = 2**i\n",
    "\n",
    "vals = abs(vals)    \n",
    "\n",
    "# plt.plot(datapoints[3:],expectederr[3:], label=\"1/sqrt(N)\")\n",
    "# plt.plot(datapoints[3:],vals[3:],label=\"err from monte carlo\")\n",
    "# plt.legend()\n",
    "# plt.show()\n",
    "\n",
    "# dif = 155/6 - vals\n",
    "# print(expectederr)\n",
    "# print(vals)\n",
    "\n",
    "\n",
    "plt.plot(datapoints,vals, label=\"abs err monte\")\n",
    "plt.plot(datapoints,expectederr, label=\"expected err\")\n",
    "plt.yscale(\"log\")\n",
    "plt.xscale(\"log\")\n",
    "plt.xlabel(\"N points\")\n",
    "plt.ylabel(\"Error\")\n",
    "plt.title(\"Absoulte Error of 10D Monte Carlo Intgration vs 1/sqrt(N)\")\n",
    "plt.legend()\n",
    "plt.show()"
   ]
  },
  {
   "cell_type": "markdown",
   "metadata": {},
   "source": [
    "b) now let's compare with a Trapezoid integration.  Distribute the $N$ points over an evenly spaced mesh spanning the $D$-dimensional space, so the integration steps are necessarily coarse. If, for example, there were 100 points in each dimension, we would be required to sum $100^D$ terms to perform a standard numerical integration. Not possible for $D=10$.\n",
    "\n",
    "We will therefore investigate $D=7$. If we limit $N$ to around the size of the largest value from part (a) and distribute those points over 7 dimensions, we'll have at most 6 points for each dimension (for a total of $279,936$ points in this part of the problem). As the integration limits are 0 to 1, $h=0.2$, which is relatively coarse for a one-dimensional integral.  Note:\n",
    "  - You might find it helpful first to think about moving from 1-dim to 2-dim to 3-dim integrals as you generalize your calculation to 10 dimensions:\n",
    "    - You'll need nested loops, one for each integration variable.\n",
    "    - For a D-dimensional integral, there are D weights to multiply together at each step."
   ]
  },
  {
   "cell_type": "code",
   "execution_count": 667,
   "metadata": {},
   "outputs": [
    {
     "name": "stdout",
     "output_type": "stream",
     "text": [
      "trapazode integral comes out to 12.88 with method 1\n",
      "trapazode integral comes out to 12.88 with method 2\n"
     ]
    }
   ],
   "source": [
    "\n",
    "def wtrap(i,N,h):   #weight function if min is 1 and max is N\n",
    "    if i==1 or i ==N:\n",
    "        return h/2\n",
    "#     print(i,N)\n",
    "    return h\n",
    "\n",
    "def wtrap2(i,N,h):   # weight function if min is 0 and max in N-1\n",
    "    if i==0 or i ==N-1:\n",
    "        return h/2\n",
    "    return h\n",
    "\n",
    "\n",
    "def g(x1,x2,x3,x4,x5,x6,x7):    # 7d function for calc\n",
    "    return (x1+x2+x3+x4+x5+x6+x7)**2\n",
    "\n",
    "############################################################################################################\n",
    "\n",
    "def trapz2(N,D,function):\n",
    "    sum = 0\n",
    "    n = N**(1/D)        # finds num of points to put in each dim \n",
    "    if int(n +.000000001) != int(n):   #checks for a rounding point error that may occur with perfect squares\n",
    "        n +=.000000001                 # fixes rounding point err\n",
    "    n = int(n)                         \n",
    "    h=1/(n-1)                          # calcs spacing of points\n",
    "    for i1 in range(1,n+1):            # sets start at 1 and end at N\n",
    "        x1 = (i1-1)*h                  # gens points\n",
    "        for i2 in range(1,n+1):\n",
    "            x2 = (i2-1)*h\n",
    "            for i3 in range(1,n+1):\n",
    "                x3 = (i3-1)*h\n",
    "                for i4 in range(1,n+1):\n",
    "                    x4 = (i4-1)*h\n",
    "                    for i5 in range(1,n+1):\n",
    "                        x5 = (i5-1)*h\n",
    "                        for i6 in range(1,n+1):\n",
    "                            x6 = (i6-1)*h\n",
    "                            for i7 in range(1,n+1):\n",
    "                                x7 = (i7-1)*h        # line below calcs value of function and weights before multiplying them together\n",
    "                                sum += wtrap(i1,n,h)*wtrap(i2,n,h)*wtrap(i3,n,h)*wtrap(i4,n,h)*wtrap(i5,n,h)*wtrap(i6,n,h)*wtrap(i7,n,h)*function(x1,x2,x3,x4,x5,x6,x7)\n",
    "    return sum\n",
    "\n",
    "def trapz3(N,D,function):\n",
    "    count = 0\n",
    "    sum =0 \n",
    "    n = N**(1/D)                     # finds num of points to put in each dim \n",
    "    if int(n +.000000001) != int(n): #checks for a rounding point error that may occur with perfect squares\n",
    "        n +=.000000001               # fixes rounding point err\n",
    "    n = int(n)\n",
    "    h=1/(n-1)                        #calcs spacing \n",
    "    x = np.zeros(n)                  #gens emptry array for the points\n",
    "    for i in range(1,n+1):\n",
    "        x[i-1] = (i-1)*h             #calcs points assuming all go from 0 to 1 \n",
    "    c = np.zeros(D)                  #creates a D length array of 0's\n",
    "    xcur = np.zeros(D)               #creates a D length array of 0's\n",
    "    while c[-1] < len(x):            #goes for length until last counter is filled\n",
    "        termn = 1                    #needs the term that gets multiplied to be reset and set to 1\n",
    "        for i in range(D):           \n",
    "            xcur[i] = x[int(c[i])]   #finds x cur for each dim checking a D dimensional counter\n",
    "        for i in range(len(c)):\n",
    "            termn *= wtrap2(c[i],n,h)  #finds weights by checking D dimensional counter\n",
    "        termn *=function(xcur)       # calculates the function and multiplies it onto termn\n",
    "        c[0]+=1                      #increases count by 1 \n",
    "        sum +=termn                  #adds current term to total\n",
    "        if np.sum(c)==D*(len(x)-1)+1:   # if counter is full breaks out of loop\n",
    "            break\n",
    "        for i in range(len(c)):      \n",
    "            if c[i] == len(x):       # if counter slot is full, emptys and adds 1 to next slot\n",
    "                c[i]=0\n",
    "                c[i+1]+=1\n",
    "    return sum\n",
    "\n",
    "\n",
    "print(f\"trapazode integral comes out to {trapz3(279936,7,testfunc):.11} with method 1\")\n",
    "print(f\"trapazode integral comes out to {trapz2(279936,7,g):.11} with method 2\")\n",
    "\n",
    "# print(trapz(279936,7,function1b))\n",
    "        "
   ]
  },
  {
   "cell_type": "markdown",
   "metadata": {},
   "source": [
    "c) Now evalute the integral via MC for the same $N=6^D$ and $D=7$ as in part (b)."
   ]
  },
  {
   "cell_type": "code",
   "execution_count": 604,
   "metadata": {},
   "outputs": [
    {
     "name": "stdout",
     "output_type": "stream",
     "text": [
      "12.835501676333873\n"
     ]
    }
   ],
   "source": [
    "print(monte(279936, testfunc, 7)[0])"
   ]
  },
  {
   "cell_type": "markdown",
   "metadata": {},
   "source": [
    "d) Finally, use sympy to tell you the analytic answer and compare your MC and Trapezoid results. Remember, we're just at $D=7$ here. (Imagine extrapolating your Trapezoid integration to $D=10$ -- with just 6 points per dimension, that would be more than 60 million points in the 10-dimensional volume.)"
   ]
  },
  {
   "cell_type": "code",
   "execution_count": 612,
   "metadata": {},
   "outputs": [
    {
     "name": "stdout",
     "output_type": "stream",
     "text": [
      "The exact answer is 77/6\n",
      "dif between trapz and exact = 0.0466667\n",
      "dif between monte and exact = 0.00272540\n"
     ]
    }
   ],
   "source": [
    "exact=integrate((x1+x2+x3+x4+x5+x6+x7)*(x1+x2+x3+x4+x5+x6+x7),\n",
    "          (x1,0,1),(x2,0,1),(x3,0,1),(x4,0,1),(x5,0,1),(x6,0,1),(x7,0,1))\n",
    "print(f\"The exact answer is {exact}\")\n",
    "\n",
    "print(f\"dif between trapz and exact = {abs(exact - trapz2(279936,7,g)):.6}\")\n",
    "# print(f\"dif between monte and exact = {abs(exact - monte(279936, function, 7)[0])}\")\n",
    "print(f\"dif between monte and exact = {abs(exact - monte(279936, testfunc, 7)[0]):.6}\")"
   ]
  },
  {
   "cell_type": "markdown",
   "metadata": {},
   "source": [
    "Higher dimensions would show even more favorable results for the MC method. At some point, the Trapezoid method becomes impractical."
   ]
  },
  {
   "cell_type": "markdown",
   "metadata": {},
   "source": [
    "## Problem 2\n",
    "\n",
    "This is an exercise in applying the bisection root-finding technique to a physics problem. In Quantum Mechanics, when solving the finite well problem, the spatially even bound states were found to be associated with the solutions to a transcendental equation:\n",
    "\n",
    "$$\\tan(z)=\\sqrt{(z_0/z)^2-1}$$\n",
    "\n",
    "where $z_0$ is a dimensionless parameter related to the depth and width of the well (smaller $z_0$ is a shallower and/or narrower well). Let's solve the problem for $z_0=8$.\n",
    "\n",
    "A quick sketch of the functions on the left and right side of the equation above will convince you there are only three bound states of this type (the two sides are equal where their curves cross, and those are the solutions -- you can also see Figure 2.18 in Griffiths). As the $\\tan$ function behaves badly around $m\\pi/2$ ($m=1, 3, 5, ...$) you'll have to take some care to find the three values of $z$ that represent the three bound states.\n",
    "\n",
    "Find those three values of $z$ numerically with precision $10^{-3}$. Check that your results roughly match your expectation from your sketch."
   ]
  },
  {
   "cell_type": "code",
   "execution_count": 528,
   "metadata": {},
   "outputs": [
    {
     "name": "stdout",
     "output_type": "stream",
     "text": [
      "roots found at x = 1.39526, 4.16484, 6.8313\n"
     ]
    }
   ],
   "source": [
    "def func2a(z):\n",
    "    z0 = 8\n",
    "    return np.sqrt((z0/z)**2 -1)\n",
    "\n",
    "\n",
    "def bisection2(f1,f2,a,b,eps,Nmax=1000,roots=1):\n",
    "    if type(a) != np.ndarray and type(a) != list:   #puts nonlist bounds into lists\n",
    "        a = [a]\n",
    "    if type(b) != np.ndarray and type(b) != list:\n",
    "        b = [b]\n",
    "    count = 0\n",
    "    found = np.zeros(roots)                        #makes array for expected num of lists\n",
    "    for i in range(roots):                         #runs for each expected root\n",
    "        for j in range(Nmax):\n",
    "            m = list(np.array(a)+np.array(b))      #finds middle point of roots\n",
    "            m[i] = m[i]/2\n",
    "            if (f1(b[i])-f2(b[i]))*(f1(m[i])-f2(m[i]))>0:      # checks sign of difference between 2 functions\n",
    "                b[i] = m[i]\n",
    "            else:\n",
    "#                 print(a[i], m[i])\n",
    "                a[i] = m[i]\n",
    "#                 print(a[i], m[i],3) #\n",
    "            if abs(b[i]-a[i])<eps:\n",
    "                break\n",
    "            count+=1\n",
    "        found[i]=m[i]\n",
    "    return found\n",
    "        \n",
    "low = np.array([0,3.1,6])    #check for 0,3,6\n",
    "upper = np.array([1.5,4.7,7.5])\n",
    "    \n",
    "# print(bisection2(func2a,np.tan,low,upper,10**(-3),roots=3))\n",
    "r1,r2,r3 = bisection2(func2a,np.tan,low,upper,10**(-3),roots=3)\n",
    "\n",
    "# print(bisection2(func2a,np.tan,0,1.5,10**(-3),roots=1))\n",
    "\n",
    "\n",
    "print(f\"roots found at x = {r1:.6},\", f\"{r2:.6},\" ,\"%1.6g\" % r3)\n"
   ]
  },
  {
   "cell_type": "markdown",
   "metadata": {},
   "source": [
    "## Problem 3\n",
    "\n",
    "Try using scipy's curve_fit. In the next cell you can find the toy (fake) data from Table 7.1 of your textbook, with errors adjusted to be a bit more interesting. \n",
    "\n",
    "a) Use these data and fit the Breit-Wigner function (use equation 7.64 or 7.21 in your textbook):\n",
    "\n",
    "$$ f(E)=\\frac{f_r}{(E-E_r)^2+\\Gamma^2/4}$$\n",
    "\n",
    "Plot the data, the errors, and the resulting fitted function. Be sure to show units on your axes (Energy in MeV, cross-section in *mb*).  \n"
   ]
  },
  {
   "cell_type": "code",
   "execution_count": 635,
   "metadata": {},
   "outputs": [],
   "source": [
    "# your code and results here\n",
    "import scipy.optimize as sop\n",
    "E = np.array([0., 25., 50., 75., 100., 125., 150., 175., 200.])    # input\n",
    "y = np.array([10.6, 16.0, 45.0, 83.5, 52.8, 19.9, 10.8, 8.25, 4.7])\n",
    "err=np.array([.934, 1.79, 4.15, 8.55, 5.15, 2.15, 1.08, 6.29, 4.14 ])"
   ]
  },
  {
   "cell_type": "markdown",
   "metadata": {},
   "source": [
    "### Solution"
   ]
  },
  {
   "cell_type": "code",
   "execution_count": 677,
   "metadata": {},
   "outputs": [
    {
     "data": {
      "image/png": "[encoded data removed]",
      "text/plain": [
       "<Figure size 640x480 with 1 Axes>"
      ]
     },
     "metadata": {},
     "output_type": "display_data"
    }
   ],
   "source": [
    "def func3(E,fg,eg,gg):\n",
    "    return fg/((E-eg)**2+gg**2/4)\n",
    "\n",
    "yg = np.zeros(len(y))\n",
    "\n",
    "\n",
    "# fg, eg, gg = 1,1,1\n",
    "params, cov = sop.curve_fit(func3, E, y, sigma=err)     #runs curve fit\n",
    "# print(yg)\n",
    "\n",
    "# print(params)\n",
    "\n",
    "\n",
    "\n",
    "plt.errorbar(E,y,yerr=err, c=\"blue\", ecolor=\"red\" , fmt=\"o\", label=\"data\", barsabove=False)\n",
    "# plt.scatter(E,y, label=\"data\",c=\"blue\")\n",
    "plt.plot(E,func3(E,*params),label=\"fit\", c=\"orange\")\n",
    "# plt.plot(E,func3(E,65153,7919,-8941),label=\"fit\", c=\"orange\")\n",
    "\n",
    "plt.xlabel(\"Energy(MeV)\")\n",
    "plt.ylabel(\"cross-section(mb)\")\n",
    "plt.title(\"Cross section vs Energy\")\n",
    "plt.legend()\n",
    "plt.show()\n",
    "\n"
   ]
  },
  {
   "cell_type": "markdown",
   "metadata": {},
   "source": [
    "b) Print the resulting fit parameters ($E_r, f_r, \\Gamma$) along with their errors, well formatted. Also print the covariance matrix and comment on the sizes of the off-diagonal elements."
   ]
  },
  {
   "cell_type": "markdown",
   "metadata": {},
   "source": [
    "### Solution"
   ]
  },
  {
   "cell_type": "code",
   "execution_count": 652,
   "metadata": {},
   "outputs": [
    {
     "name": "stdout",
     "output_type": "stream",
     "text": [
      "╒════════════╤════════════════════╤════════════════════╕\n",
      "│ Paramerter │ Value              │ Error              │\n",
      "├────────────┼────────────────────┼────────────────────┤\n",
      "│ fr         │ 64331.65382284179  │ 3322.9672153023957 │\n",
      "├────────────┼────────────────────┼────────────────────┤\n",
      "│ Er         │ 77.2491968952416   │ 1.0863129714163917 │\n",
      "├────────────┼────────────────────┼────────────────────┤\n",
      "│ Gamma      │ 54.837073601302336 │ 2.873283810386361  │\n",
      "╘════════════╧════════════════════╧════════════════════╛\n",
      "\n",
      "cov =\n",
      "╒════════════════╤═════════════╤══════════════╕\n",
      "│    1.10421e+07 │ 163.896     │ 7649.43      │\n",
      "├────────────────┼─────────────┼──────────────┤\n",
      "│  163.896       │   1.18008   │    0.0368752 │\n",
      "├────────────────┼─────────────┼──────────────┤\n",
      "│ 7649.43        │   0.0368752 │    8.25576   │\n",
      "╘════════════════╧═════════════╧══════════════╛\n"
     ]
    }
   ],
   "source": [
    "from tabulate import tabulate\n",
    "\n",
    "# print(params, cov)\n",
    "\n",
    "fr = params[0]\n",
    "Er = params[1]\n",
    "gamma = params[2]\n",
    "err4b = np.sqrt(np.diag(cov))\n",
    "\n",
    "print(tabulate([[\"Paramerter\", \"Value\", \"Error\"],[\"fr\",params[0],err4b[0]],[\"Er\",params[1],err4b[1]],[\"Gamma\",params[2],err4b[2]]],tablefmt=\"fancy_grid\"))\n",
    "\n",
    "# print(np.sqrt(np.diag(cov)))\n",
    "\n",
    "# print(cov)\n",
    "\n",
    "print(\"\\ncov =\")\n",
    "print(tabulate([[cov[0][0],cov[0][1],cov[0][2]],[cov[1][0],cov[1][1],cov[1][2]],[cov[2][0],cov[2][1],cov[2][2]]],tablefmt=\"fancy_grid\"))"
   ]
  },
  {
   "cell_type": "markdown",
   "metadata": {},
   "source": [
    "The off diagonal elements are symetric about the center, the value in the top middle is is rather larger but the cornors are much large. The middle side terms are very small."
   ]
  },
  {
   "cell_type": "markdown",
   "metadata": {},
   "source": [
    "c) Assess the quality of the fit by calculating the reduced $\\chi^2$. Is it a reasonable fit? "
   ]
  },
  {
   "cell_type": "markdown",
   "metadata": {},
   "source": [
    "### Solution"
   ]
  },
  {
   "cell_type": "code",
   "execution_count": 638,
   "metadata": {},
   "outputs": [
    {
     "name": "stdout",
     "output_type": "stream",
     "text": [
      "chisq = 4.063730969876401\n",
      "reduced chisq = 1.3545769899588003\n"
     ]
    }
   ],
   "source": [
    "r = y - func3(E, *params)\n",
    "chisq = sum((r/err)**2)\n",
    "print(f\"chisq = {chisq}\")\n",
    "print(f\"reduced chisq = {chisq/3}\")"
   ]
  },
  {
   "cell_type": "markdown",
   "metadata": {},
   "source": [
    "While not a perfect fit that we would hope for, with $\\chi^2$ = 1 but this does seem to be a reasonable fit as we are still over 1 but under 2."
   ]
  },
  {
   "cell_type": "code",
   "execution_count": null,
   "metadata": {},
   "outputs": [],
   "source": []
  }
 ],
 "metadata": {
  "kernelspec": {
   "display_name": "Python 3 (ipykernel)",
   "language": "python",
   "name": "python3"
  },
  "language_info": {
   "codemirror_mode": {
    "name": "ipython",
    "version": 3
   },
   "file_extension": ".py",
   "mimetype": "text/x-python",
   "name": "python",
   "nbconvert_exporter": "python",
   "pygments_lexer": "ipython3",
   "version": "3.11.4"
  }
 },
 "nbformat": 4,
 "nbformat_minor": 2
}

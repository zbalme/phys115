{
 "cells": [
  {
   "cell_type": "markdown",
   "id": "7fa78f32",
   "metadata": {},
   "source": [
    "# Problem Set 5\n",
    "\n",
    "Due in your git fork by 11:59pm Pacfic time on Monday, December 4th.\n",
    "\n",
    "All problems have equal weight."
   ]
  },
  {
   "cell_type": "code",
   "execution_count": 1,
   "id": "6f47d9c2",
   "metadata": {},
   "outputs": [],
   "source": [
    "import numpy as np\n",
    "import matplotlib.pyplot as plt\n",
    "%matplotlib inline\n",
    "import sys"
   ]
  },
  {
   "cell_type": "markdown",
   "id": "011a356c",
   "metadata": {},
   "source": [
    "## Problem 1: Energy levels"
   ]
  },
  {
   "cell_type": "markdown",
   "id": "60f1c24b",
   "metadata": {},
   "source": [
    "For this exercise we will follow the discussion of the energy levels in Chapter 9.2.2 and 9.3. "
   ]
  },
  {
   "cell_type": "markdown",
   "id": "27c08445",
   "metadata": {},
   "source": [
    "(a) Start by assuming the finite square well with depth 83 MeV and radius 2 fm, as in Eqn. 9.5. Use the mass of the proton, as in Eqn. 9.8. Use the Numerov method to solve for the allowed energies in the well. "
   ]
  },
  {
   "cell_type": "code",
   "execution_count": null,
   "id": "a360c973",
   "metadata": {},
   "outputs": [],
   "source": []
  },
  {
   "cell_type": "markdown",
   "id": "78b28075",
   "metadata": {},
   "source": [
    "(b) Plot the allowed wave functions on the same figure as the potential, as in Figure 9.1. (You will have to scale one of them to make them both fit.) Draw a horizontal line to represent each of the allowed energies. "
   ]
  },
  {
   "cell_type": "code",
   "execution_count": null,
   "id": "05f458e5",
   "metadata": {},
   "outputs": [],
   "source": []
  },
  {
   "cell_type": "markdown",
   "id": "8ee77b75",
   "metadata": {},
   "source": [
    "(c) Check to see how the bound-state energies change when the radius of the well changes. Start by increasing the radius by a factor of 2."
   ]
  },
  {
   "cell_type": "code",
   "execution_count": null,
   "id": "71bc0eb9",
   "metadata": {},
   "outputs": [],
   "source": []
  },
  {
   "cell_type": "markdown",
   "id": "3f8d02ab",
   "metadata": {},
   "source": [
    "## Problem 2: 3-body problems"
   ]
  },
  {
   "attachments": {
    "pythagorean_3body.png": {
     "image/png": "[encoded data removed]"
    }
   },
   "cell_type": "markdown",
   "id": "00c6aada",
   "metadata": {},
   "source": [
    "The Pythagorean version of the Euler 3-body problem has 3 masses at the corners of a 3-4-5 right triangle.\n",
    "\n",
    "![pythagorean_3body.png](attachment:pythagorean_3body.png)\n",
    "\n",
    "The force on each mass $m_{i}$ is the sum of gravitational forces from the other masses:\n",
    "\n",
    "$$\\vec{F}_{i} = -G\\sum_{j\\neq i}m_{i}m_{j}\\frac{\\vec{r}_i-\\vec{r}_j}{|\\vec{r}_i-\\vec{r}_j|^3}$$\n",
    "\n",
    "With units arranged so that G = 1, the masses have values $m_{A} = 3$, $m_{B} = 4$, and $m_{C} = 5$, and they are at rest at $t = 0$ as shown in the figure."
   ]
  },
  {
   "cell_type": "markdown",
   "id": "a9e2a326",
   "metadata": {},
   "source": [
    "(a) Find the motion of the system over the interval $t = 0$ to $t = 10$. Use python libraries to solve the ODE's.  (If you have time, try to use the animation functions.) "
   ]
  },
  {
   "cell_type": "code",
   "execution_count": null,
   "id": "6ccb4cc8",
   "metadata": {},
   "outputs": [],
   "source": []
  },
  {
   "cell_type": "markdown",
   "id": "bbf82bef",
   "metadata": {},
   "source": [
    "(b) A new, stable solution for the equal-mass 3-body problem was discovered in 2000 by Prof. R. Montgomery (UCSC) and A. Chenciner (Annals of Mathematics 152: 881-901). Find the motion of the 3-body system with all 3 masses set to $m = 1$, $G = 1$, and initial conditions given in Figure 1 of the paper. This system is called the “figure-eight” orbit. "
   ]
  },
  {
   "cell_type": "code",
   "execution_count": null,
   "id": "a109a084",
   "metadata": {},
   "outputs": [],
   "source": []
  },
  {
   "cell_type": "markdown",
   "id": "c39dac3f",
   "metadata": {},
   "source": [
    "(c) Check the stability of the “figure-eight” orbit by changing the initial conditions slightly and checking the orbit again.  Consider the following changes:\n",
    "\n",
    "* Increase all parameters by 1%\n",
    "* Increase all parameters by 2%\n",
    "* Increase parameters for particles $A$ and $B$ by 3%, and increase the run time to 500.  "
   ]
  },
  {
   "cell_type": "code",
   "execution_count": null,
   "id": "d3681607",
   "metadata": {},
   "outputs": [],
   "source": []
  },
  {
   "cell_type": "markdown",
   "id": "62765518",
   "metadata": {},
   "source": [
    "## Problem 3: Vibrating Strings"
   ]
  },
  {
   "cell_type": "markdown",
   "id": "6579ea8e",
   "metadata": {},
   "source": [
    "Even though the equation of a vibrating string (with length $L$, linear mass density $\\mu( x )$, and tension $T$) is a partial differential equation:\n",
    "\n",
    "$$\\frac{\\partial^2 u(x,y)}{\\partial t^2} = \\frac{T}{\\mu(x)}\\frac{\\partial^2 u(x,t)}{\\partial x^2}$$\n",
    "\n",
    "the use of a solution $u( x, t) = y( x )\\tau(t)$ allows us to separate the equation into a spatial side and a temporal side:\n",
    "\n",
    "$$\\frac{1}{\\tau(t)}\\frac{d^2 \\tau(t)}{dt^2} = \\frac{1}{y(x)}\\frac{T}{\\mu(x)}\\frac{d^2 y(x)}{dx^2}$$\n",
    "\n",
    "where the separation constant is taken to be $-\\omega^2$."
   ]
  },
  {
   "cell_type": "markdown",
   "id": "a9d7ae86",
   "metadata": {},
   "source": [
    "(a) Show (analytically) that if $\\mu(x)=\\mu_0=\\mathrm{constant}$ then the spatial solution for $y(x)$ is:\n",
    "\n",
    "$$y(x)=\\alpha\\sin\\left(\\omega x\\sqrt{\\frac{\\mu_0}{T}}\\right) + \\beta\\cos\\left(\\omega x\\sqrt{\\frac{\\mu_0}{T}}\\right)$$"
   ]
  },
  {
   "cell_type": "code",
   "execution_count": null,
   "id": "f529581a",
   "metadata": {},
   "outputs": [],
   "source": []
  },
  {
   "cell_type": "markdown",
   "id": "f82bce25",
   "metadata": {},
   "source": [
    "(b) Now set the boundary condition $y(x)=0$ at both ends of the string, and show that the allowed values of $\\omega$ are:\n",
    "\n",
    "$$\\omega = \\frac{n\\pi}{L}\\sqrt{\\frac{T}{\\mu_0}}$$"
   ]
  },
  {
   "cell_type": "code",
   "execution_count": null,
   "id": "2dc8803c",
   "metadata": {},
   "outputs": [],
   "source": []
  },
  {
   "cell_type": "markdown",
   "id": "f3448186",
   "metadata": {},
   "source": [
    "(c) Now use the shooting method with boundary conditions to find the lowest frequency of the string and plot the shape of the eigenfunction.  Use $L=1$ m, $m=0.954$ kg, and $T=1000$ N.  Assume a constant value of $\\mu_0$ for this part."
   ]
  },
  {
   "cell_type": "code",
   "execution_count": null,
   "id": "5beea90b",
   "metadata": {},
   "outputs": [],
   "source": []
  },
  {
   "cell_type": "markdown",
   "id": "44dd9e27",
   "metadata": {},
   "source": [
    "(d) Repeat the shooting method with $\\mu(x)=(0.954 \\mathrm{g/m} + (x-\\frac{L}{2})0.8 \\mathrm{g/m^2})$.  Plot the shape of the eigenfunction and compare the shape and frequency with the results from part (c)."
   ]
  },
  {
   "cell_type": "code",
   "execution_count": null,
   "id": "0a1fb295",
   "metadata": {},
   "outputs": [],
   "source": []
  },
  {
   "cell_type": "markdown",
   "id": "4325dcd2",
   "metadata": {},
   "source": [
    "## Problem 4: More on Laplace's Equation"
   ]
  },
  {
   "cell_type": "markdown",
   "id": "b0d6bc23",
   "metadata": {},
   "source": [
    "This problem is the follow-up to the electrostatic potential case we analyzed in class. The top edge of the square plate is kept at 100 V potential, and the other 3 edges are kept at 0 V:\n",
    "\n",
    "<img src=\"../Lectures/Figures/Figure_19.1a.png\" width=\"20%\">"
   ]
  },
  {
   "cell_type": "markdown",
   "id": "4d538476",
   "metadata": {},
   "source": [
    "(a) Calculate the electrostatic potential everywhere on the square plate, as we did in class, but using 1000 iterations. Draw the $V$ axis as equipotential contours instead of a 3-D surface plot."
   ]
  },
  {
   "cell_type": "code",
   "execution_count": null,
   "id": "aca6c9f6",
   "metadata": {},
   "outputs": [],
   "source": []
  },
  {
   "cell_type": "markdown",
   "id": "4c0f3641",
   "metadata": {},
   "source": [
    "(b) Repeat the process for different step sizes $h={0.01, 0.02, 0.05, 0.1, 0.2, 0.5}$ and draw conclusions about the stability and accuracy of the solution. "
   ]
  },
  {
   "cell_type": "code",
   "execution_count": null,
   "id": "ed2b33fb",
   "metadata": {},
   "outputs": [],
   "source": []
  },
  {
   "cell_type": "markdown",
   "id": "4fe92f77",
   "metadata": {},
   "source": [
    "(c) Modify the program so that the iterations stop once the solution has converged. How does the number of iterations required change with the tolerance? "
   ]
  },
  {
   "cell_type": "code",
   "execution_count": null,
   "id": "e14543e2",
   "metadata": {},
   "outputs": [],
   "source": []
  },
  {
   "cell_type": "markdown",
   "id": "68a1add4",
   "metadata": {},
   "source": [
    "(d) Implement the successive over-relaxation technique to accelerate the convergence. What value of relaxation parameter (called $\\alpha$ in lecture, $\\omega$ in the textbook) gives the fastest convergence?  Double-check that the result looks reasonable for that optimal value."
   ]
  },
  {
   "cell_type": "code",
   "execution_count": null,
   "id": "7f75692e",
   "metadata": {},
   "outputs": [],
   "source": []
  },
  {
   "cell_type": "markdown",
   "id": "d9d4707b",
   "metadata": {},
   "source": [
    "(e) Compare your numerical result with the analytic result given in Eqn. 19.18:\n",
    "\n",
    "$$\n",
    "V(x,y)=\\sum_{n=1,3,5,...}^{\\infty}\\frac{400}{n\\pi}\\sin\\left(\\frac{n\\pi x}{L}\\right)\\frac{\\sinh(n\\pi y/L)}{\\sinh(n\\pi)}\n",
    "$$\n",
    "\n",
    "Hint #1: do not be surprised if you need to sum lots (hundreds!  thousands?) of terms before the analytic solution converges!\n",
    "\n",
    "Hint #2: Use the following formula for large $N$ (Eqn. 19.19 in our textbook):\n",
    "\n",
    "$$\\frac{\\sinh(n\\pi x/L)}{\\sinh(n\\pi)} = \\frac{e^{n\\pi(x/L-1)} - e^{-n\\pi(x/L+1)}}{1-e^{-2n\\pi}} \\longrightarrow e^{n\\pi (x/L-1)}$$"
   ]
  },
  {
   "cell_type": "code",
   "execution_count": null,
   "id": "ccbfabab",
   "metadata": {},
   "outputs": [],
   "source": []
  }
 ],
 "metadata": {
  "kernelspec": {
   "display_name": "Python 3 (ipykernel)",
   "language": "python",
   "name": "python3"
  },
  "language_info": {
   "codemirror_mode": {
    "name": "ipython",
    "version": 3
   },
   "file_extension": ".py",
   "mimetype": "text/x-python",
   "name": "python",
   "nbconvert_exporter": "python",
   "pygments_lexer": "ipython3",
   "version": "3.10.10"
  }
 },
 "nbformat": 4,
 "nbformat_minor": 5
}
